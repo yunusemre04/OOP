{
 "cells": [
  {
   "cell_type": "code",
   "execution_count": 57,
   "metadata": {},
   "outputs": [],
   "source": [
    "from datetime import datetime\n",
    "class Product:\n",
    "    def __init__(self,name=\"default\",quantity=0,price=1) -> None:\n",
    "        self.name=name\n",
    "        self.quantity=quantity\n",
    "        self.price=price\n",
    "        self.creation_date = datetime.now()\n",
    "        self.setname(name)\n",
    "        self.setquantity(quantity)\n",
    "        self.setprice(price)\n",
    "      \n",
    "    def __repr__(self):\n",
    "      return f\"Product name: {self.name}- Quantity: {self.quantity}- Price: {self.price} c.d:{self.creation_date}\"\n",
    "    \n",
    "    def setquantity(self,quantity): \n",
    "      if quantity>0:\n",
    "        self.quantity=quantity\n",
    "      else :\n",
    "        print(\"quantity must be positive integer\")\n",
    "        \n",
    "    def get_total_price(self): self.price*self.quantity\n",
    "    \n",
    "    def setname(self,name):\n",
    "     if 3 <= len(name) <= 8:\n",
    "            self.name = name\n",
    "     else: print(\"Hata: Ürün ismi 3 ile 8 karakter arasında olmalıdır.\")\n",
    "     \n",
    "    def setprice(self,price):\n",
    "       if price>=0:self.price=price\n",
    "       else:print(\"price must be natural number\")"
   ]
  },
  {
   "cell_type": "code",
   "execution_count": 58,
   "metadata": {},
   "outputs": [
    {
     "name": "stdout",
     "output_type": "stream",
     "text": [
      "Hata: Ürün ismi 3 ile 8 karakter arasında olmalıdır.\n",
      "quantity must be positive integer\n",
      "price must be natural number\n",
      "Product name: airplanee- Quantity: -1- Price: -1 c.d:2024-01-18 22:28:57.444084\n"
     ]
    }
   ],
   "source": [
    "product1=Product(\"airplanee\",-1,-1)\n",
    "print(product1)"
   ]
  },
  {
   "cell_type": "code",
   "execution_count": null,
   "metadata": {},
   "outputs": [],
   "source": []
  },
  {
   "cell_type": "markdown",
   "metadata": {},
   "source": []
  }
 ],
 "metadata": {
  "kernelspec": {
   "display_name": "base",
   "language": "python",
   "name": "python3"
  },
  "language_info": {
   "codemirror_mode": {
    "name": "ipython",
    "version": 3
   },
   "file_extension": ".py",
   "mimetype": "text/x-python",
   "name": "python",
   "nbconvert_exporter": "python",
   "pygments_lexer": "ipython3",
   "version": "3.11.5"
  }
 },
 "nbformat": 4,
 "nbformat_minor": 2
}
