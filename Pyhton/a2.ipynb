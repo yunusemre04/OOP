{
 "cells": [
  {
   "cell_type": "code",
   "execution_count": 13,
   "metadata": {},
   "outputs": [],
   "source": [
    "class car:\n",
    "    def __init__(self,name=\"default\",quantity=0,price=1)->None :\n",
    "        print(f\"the program was succesfully run\")\n",
    "        self.__name=name\n",
    "        self.quantity=quantity\n",
    "        self.price=price\n",
    "    @property\n",
    "    def name(self):\n",
    "        return self.__name\n",
    "    @name.setter\n",
    "    def name(self,value)->None:\n",
    "        self.__name=value\n",
    "     \n",
    "    def get_total(self):\n",
    "       return self.quantity*self.price\n",
    "    def __repr__(self):\n",
    "        return f\"{self.name}-{self.quantity}-{self.price}\""
   ]
  },
  {
   "cell_type": "code",
   "execution_count": 14,
   "metadata": {},
   "outputs": [
    {
     "name": "stdout",
     "output_type": "stream",
     "text": [
      "the program was succesfully run\n",
      "the program was succesfully run\n",
      "the program was succesfully run\n",
      "opel-15-15000\n",
      "bmw-5-12500\n",
      "default-0-1\n"
     ]
    }
   ],
   "source": [
    "car1=car(\"opel\",15,15000)\n",
    "car2=car(\"bmw\",5,12500)\n",
    "car3=car()\n",
    "print(car1)\n",
    "print(car2)\n",
    "print(car3)\n",
    "\n"
   ]
  }
 ],
 "metadata": {
  "kernelspec": {
   "display_name": "base",
   "language": "python",
   "name": "python3"
  },
  "language_info": {
   "codemirror_mode": {
    "name": "ipython",
    "version": 3
   },
   "file_extension": ".py",
   "mimetype": "text/x-python",
   "name": "python",
   "nbconvert_exporter": "python",
   "pygments_lexer": "ipython3",
   "version": "3.11.5"
  }
 },
 "nbformat": 4,
 "nbformat_minor": 2
}
